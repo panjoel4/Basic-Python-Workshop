{
 "cells": [
  {
   "cell_type": "markdown",
   "metadata": {},
   "source": [
    "# Workshop: Basic Python for Geoscientist Part I\n",
    "\n"
   ]
  },
  {
   "cell_type": "markdown",
   "metadata": {},
   "source": [
    "## Variables, expressions and statements"
   ]
  },
  {
   "cell_type": "code",
   "execution_count": 1,
   "metadata": {},
   "outputs": [
    {
     "name": "stdout",
     "output_type": "stream",
     "text": [
      "11\n"
     ]
    }
   ],
   "source": [
    "x=5\n",
    "y=6\n",
    "print (x+y)"
   ]
  },
  {
   "cell_type": "code",
   "execution_count": 2,
   "metadata": {},
   "outputs": [
    {
     "name": "stdout",
     "output_type": "stream",
     "text": [
      "11.5\n"
     ]
    }
   ],
   "source": [
    "x=5\n",
    "y=6.5\n",
    "print (x+y)"
   ]
  },
  {
   "cell_type": "code",
   "execution_count": 3,
   "metadata": {},
   "outputs": [
    {
     "name": "stdout",
     "output_type": "stream",
     "text": [
      "limaenam\n"
     ]
    }
   ],
   "source": [
    "x='lima'\n",
    "y='enam'\n",
    "print (x+y)"
   ]
  },
  {
   "cell_type": "code",
   "execution_count": 4,
   "metadata": {},
   "outputs": [
    {
     "ename": "TypeError",
     "evalue": "unsupported operand type(s) for +: 'int' and 'str'",
     "output_type": "error",
     "traceback": [
      "\u001b[1;31m---------------------------------------------------------------------------\u001b[0m",
      "\u001b[1;31mTypeError\u001b[0m                                 Traceback (most recent call last)",
      "\u001b[1;32m<ipython-input-4-c3ca8aedfd1f>\u001b[0m in \u001b[0;36m<module>\u001b[1;34m\u001b[0m\n\u001b[0;32m      1\u001b[0m \u001b[0mx\u001b[0m\u001b[1;33m=\u001b[0m\u001b[1;36m5\u001b[0m\u001b[1;33m\u001b[0m\u001b[1;33m\u001b[0m\u001b[0m\n\u001b[0;32m      2\u001b[0m \u001b[0my\u001b[0m\u001b[1;33m=\u001b[0m\u001b[1;34m'enam'\u001b[0m\u001b[1;33m\u001b[0m\u001b[1;33m\u001b[0m\u001b[0m\n\u001b[1;32m----> 3\u001b[1;33m \u001b[0mprint\u001b[0m \u001b[1;33m(\u001b[0m\u001b[0mx\u001b[0m\u001b[1;33m+\u001b[0m\u001b[0my\u001b[0m\u001b[1;33m)\u001b[0m\u001b[1;33m\u001b[0m\u001b[1;33m\u001b[0m\u001b[0m\n\u001b[0m",
      "\u001b[1;31mTypeError\u001b[0m: unsupported operand type(s) for +: 'int' and 'str'"
     ]
    }
   ],
   "source": [
    "x=5\n",
    "y='enam'\n",
    "print (x+y)"
   ]
  },
  {
   "cell_type": "markdown",
   "metadata": {},
   "source": [
    "## List, tuples, dictionary and array"
   ]
  },
  {
   "cell_type": "code",
   "execution_count": 5,
   "metadata": {},
   "outputs": [],
   "source": [
    "this_list=[\"orange\", 'banana', 'cherry']\n",
    "this_tuple=('orange', 'banana', 'cherry')\n",
    "this_set={'orange', 'banana', 'cherry'}"
   ]
  },
  {
   "cell_type": "code",
   "execution_count": 6,
   "metadata": {},
   "outputs": [],
   "source": [
    "this_list.append('mango')"
   ]
  },
  {
   "cell_type": "code",
   "execution_count": 7,
   "metadata": {},
   "outputs": [
    {
     "name": "stdout",
     "output_type": "stream",
     "text": [
      "['orange', 'banana', 'cherry', 'mango']\n"
     ]
    }
   ],
   "source": [
    "print (this_list)"
   ]
  },
  {
   "cell_type": "code",
   "execution_count": 8,
   "metadata": {},
   "outputs": [
    {
     "ename": "AttributeError",
     "evalue": "'tuple' object has no attribute 'append'",
     "output_type": "error",
     "traceback": [
      "\u001b[1;31m---------------------------------------------------------------------------\u001b[0m",
      "\u001b[1;31mAttributeError\u001b[0m                            Traceback (most recent call last)",
      "\u001b[1;32m<ipython-input-8-0f65c327c9c8>\u001b[0m in \u001b[0;36m<module>\u001b[1;34m\u001b[0m\n\u001b[1;32m----> 1\u001b[1;33m \u001b[0mthis_tuple\u001b[0m\u001b[1;33m.\u001b[0m\u001b[0mappend\u001b[0m\u001b[1;33m(\u001b[0m\u001b[1;34m'mango'\u001b[0m\u001b[1;33m)\u001b[0m\u001b[1;33m\u001b[0m\u001b[1;33m\u001b[0m\u001b[0m\n\u001b[0m",
      "\u001b[1;31mAttributeError\u001b[0m: 'tuple' object has no attribute 'append'"
     ]
    }
   ],
   "source": [
    "this_tuple.append('mango')"
   ]
  },
  {
   "cell_type": "code",
   "execution_count": 9,
   "metadata": {},
   "outputs": [
    {
     "name": "stdout",
     "output_type": "stream",
     "text": [
      "('orange', 'banana', 'cherry')\n"
     ]
    }
   ],
   "source": [
    "print (this_tuple)"
   ]
  },
  {
   "cell_type": "code",
   "execution_count": 10,
   "metadata": {},
   "outputs": [],
   "source": [
    "this_list.append('orange')\n"
   ]
  },
  {
   "cell_type": "code",
   "execution_count": 11,
   "metadata": {},
   "outputs": [
    {
     "ename": "AttributeError",
     "evalue": "'set' object has no attribute 'append'",
     "output_type": "error",
     "traceback": [
      "\u001b[1;31m---------------------------------------------------------------------------\u001b[0m",
      "\u001b[1;31mAttributeError\u001b[0m                            Traceback (most recent call last)",
      "\u001b[1;32m<ipython-input-11-7233d2f0f8e7>\u001b[0m in \u001b[0;36m<module>\u001b[1;34m\u001b[0m\n\u001b[1;32m----> 1\u001b[1;33m \u001b[0mthis_set\u001b[0m\u001b[1;33m.\u001b[0m\u001b[0mappend\u001b[0m\u001b[1;33m(\u001b[0m\u001b[1;34m'orange'\u001b[0m\u001b[1;33m)\u001b[0m\u001b[1;33m\u001b[0m\u001b[1;33m\u001b[0m\u001b[0m\n\u001b[0m",
      "\u001b[1;31mAttributeError\u001b[0m: 'set' object has no attribute 'append'"
     ]
    }
   ],
   "source": [
    "this_set.append('orange')"
   ]
  },
  {
   "cell_type": "code",
   "execution_count": 12,
   "metadata": {},
   "outputs": [
    {
     "name": "stdout",
     "output_type": "stream",
     "text": [
      "['orange', 'banana', 'cherry', 'mango', 'orange']\n",
      "('orange', 'banana', 'cherry')\n",
      "{'cherry', 'banana', 'orange'}\n"
     ]
    }
   ],
   "source": [
    "print (this_list)\n",
    "print (this_tuple)\n",
    "print (this_set)"
   ]
  },
  {
   "cell_type": "code",
   "execution_count": 13,
   "metadata": {},
   "outputs": [
    {
     "name": "stdout",
     "output_type": "stream",
     "text": [
      "mango banana\n"
     ]
    }
   ],
   "source": [
    "print (this_list[3], this_list[1])"
   ]
  },
  {
   "cell_type": "code",
   "execution_count": 14,
   "metadata": {},
   "outputs": [
    {
     "name": "stdout",
     "output_type": "stream",
     "text": [
      "banana\n"
     ]
    }
   ],
   "source": [
    "print (this_tuple[1])"
   ]
  },
  {
   "cell_type": "code",
   "execution_count": 15,
   "metadata": {},
   "outputs": [
    {
     "name": "stdout",
     "output_type": "stream",
     "text": [
      "mangobanana\n"
     ]
    }
   ],
   "source": [
    "print (this_list[3] + this_tuple[1])"
   ]
  },
  {
   "cell_type": "code",
   "execution_count": 16,
   "metadata": {},
   "outputs": [],
   "source": [
    "gammaray=[30,40,50,60,70]\n",
    "caliper=[20, 25, 30, 35, 40]"
   ]
  },
  {
   "cell_type": "code",
   "execution_count": 17,
   "metadata": {},
   "outputs": [
    {
     "name": "stdout",
     "output_type": "stream",
     "text": [
      "20\n"
     ]
    }
   ],
   "source": [
    "print (gammaray[2]-caliper[2])"
   ]
  },
  {
   "cell_type": "markdown",
   "metadata": {},
   "source": [
    "## Conditional statements"
   ]
  },
  {
   "cell_type": "code",
   "execution_count": 18,
   "metadata": {},
   "outputs": [
    {
     "name": "stdout",
     "output_type": "stream",
     "text": [
      "x is negative\n"
     ]
    }
   ],
   "source": [
    "x=0\n",
    "if x>0:\n",
    "    print (\"x is positive\")\n",
    "else:\n",
    "    print (\"x is negative\")"
   ]
  },
  {
   "cell_type": "code",
   "execution_count": 19,
   "metadata": {},
   "outputs": [
    {
     "name": "stdout",
     "output_type": "stream",
     "text": [
      "x is zero\n"
     ]
    }
   ],
   "source": [
    "x=0\n",
    "if x > 0:\n",
    "    print ('x is positive')\n",
    "else:\n",
    "    if x < 0:\n",
    "        print ('x is negative')\n",
    "    else:\n",
    "        print ('x is zero')\n"
   ]
  },
  {
   "cell_type": "code",
   "execution_count": 20,
   "metadata": {},
   "outputs": [
    {
     "name": "stdout",
     "output_type": "stream",
     "text": [
      "this is sand\n"
     ]
    }
   ],
   "source": [
    "gammaray=40\n",
    "if gammaray>50:\n",
    "    print (\"this is shale\")\n",
    "else:\n",
    "    print (\"this is sand\")\n"
   ]
  },
  {
   "cell_type": "markdown",
   "metadata": {},
   "source": [
    "## For and While loop"
   ]
  },
  {
   "cell_type": "code",
   "execution_count": 21,
   "metadata": {},
   "outputs": [
    {
     "name": "stdout",
     "output_type": "stream",
     "text": [
      "30\n"
     ]
    }
   ],
   "source": [
    "gammaray=[30,40,50,60,70]\n",
    "print (gammaray[0])\n"
   ]
  },
  {
   "cell_type": "code",
   "execution_count": 22,
   "metadata": {},
   "outputs": [
    {
     "name": "stdout",
     "output_type": "stream",
     "text": [
      "this is sand\n",
      "this is sand\n",
      "this is sand\n",
      "this is shale\n",
      "this is shale\n"
     ]
    }
   ],
   "source": [
    "for gamma in gammaray:\n",
    "    if gamma>50:\n",
    "        print (\"this is shale\")\n",
    "    else:\n",
    "        print (\"this is sand\")"
   ]
  },
  {
   "cell_type": "code",
   "execution_count": 23,
   "metadata": {},
   "outputs": [
    {
     "name": "stdout",
     "output_type": "stream",
     "text": [
      "0\n",
      "2\n",
      "4\n"
     ]
    }
   ],
   "source": [
    "i=0\n",
    "while i <6:\n",
    "    print(i)\n",
    "    i=i+2"
   ]
  },
  {
   "cell_type": "markdown",
   "metadata": {},
   "source": [
    "## Function"
   ]
  },
  {
   "cell_type": "code",
   "execution_count": 24,
   "metadata": {},
   "outputs": [
    {
     "name": "stdout",
     "output_type": "stream",
     "text": [
      "20.0\n"
     ]
    }
   ],
   "source": [
    "def IDRtoUSD(x):\n",
    "    print(x / 12000)\n",
    "    \n",
    "IDRtoUSD(240000)"
   ]
  },
  {
   "cell_type": "code",
   "execution_count": 25,
   "metadata": {},
   "outputs": [
    {
     "name": "stdout",
     "output_type": "stream",
     "text": [
      "25.0\n"
     ]
    }
   ],
   "source": [
    "IDRtoUSD(300000)"
   ]
  },
  {
   "cell_type": "code",
   "execution_count": 26,
   "metadata": {},
   "outputs": [
    {
     "name": "stdout",
     "output_type": "stream",
     "text": [
      "10.0\n"
     ]
    }
   ],
   "source": [
    "IDRtoUSD(120000)"
   ]
  },
  {
   "cell_type": "code",
   "execution_count": 27,
   "metadata": {},
   "outputs": [],
   "source": [
    "def vshalcal(x):\n",
    "    for x in gammaray:\n",
    "        if x>50:\n",
    "            print (\"this is shale\")\n",
    "        else:\n",
    "            print (\"this is sand\")"
   ]
  },
  {
   "cell_type": "code",
   "execution_count": 28,
   "metadata": {},
   "outputs": [
    {
     "name": "stdout",
     "output_type": "stream",
     "text": [
      "this is sand\n",
      "this is sand\n",
      "this is sand\n",
      "this is shale\n",
      "this is shale\n"
     ]
    }
   ],
   "source": [
    "gammaray=[30,40,50,60,70]\n",
    "vshalcal(gammaray)"
   ]
  },
  {
   "cell_type": "code",
   "execution_count": 29,
   "metadata": {},
   "outputs": [
    {
     "name": "stdout",
     "output_type": "stream",
     "text": [
      "this is sand\n",
      "this is sand\n",
      "this is sand\n",
      "this is shale\n",
      "this is shale\n"
     ]
    }
   ],
   "source": [
    "gammarayb=[30,40,45,27,38]\n",
    "vshalcal(gammarayb)"
   ]
  },
  {
   "cell_type": "code",
   "execution_count": 30,
   "metadata": {},
   "outputs": [
    {
     "name": "stdout",
     "output_type": "stream",
     "text": [
      "this is sand\n",
      "this is sand\n",
      "this is sand\n",
      "this is shale\n",
      "this is shale\n"
     ]
    }
   ],
   "source": [
    "gammarayc=[55,80,94,80]\n",
    "vshalcal(gammarayc)"
   ]
  },
  {
   "cell_type": "code",
   "execution_count": 31,
   "metadata": {},
   "outputs": [],
   "source": [
    "def gammabaru(x):\n",
    "    if x>50:\n",
    "        print (\"this is shale\")\n",
    "    else:\n",
    "        print (\"this is sand\")"
   ]
  },
  {
   "cell_type": "code",
   "execution_count": 32,
   "metadata": {},
   "outputs": [
    {
     "name": "stdout",
     "output_type": "stream",
     "text": [
      "this is sand\n"
     ]
    }
   ],
   "source": [
    "gammabaru(35)"
   ]
  },
  {
   "cell_type": "markdown",
   "metadata": {},
   "source": [
    "# Case Study (Petrophysics)"
   ]
  },
  {
   "cell_type": "code",
   "execution_count": 33,
   "metadata": {},
   "outputs": [
    {
     "name": "stdout",
     "output_type": "stream",
     "text": [
      "[[1.025e+03 7.400e+01 6.000e+02 1.800e+00 7.860e-01]\n",
      " [1.030e+03 5.500e+01 6.550e+02 1.585e+00 8.560e-01]\n",
      " [1.035e+03 6.200e+01 6.250e+02 2.025e+00 1.100e+00]\n",
      " [1.040e+03 6.400e+01 6.740e+02 1.745e+00 9.810e-01]\n",
      " [1.045e+03 7.200e+01 5.720e+02 1.785e+00 8.700e-01]]\n"
     ]
    }
   ],
   "source": [
    "import numpy as np\n",
    "\n",
    "depth = np.array([1025, 1030, 1035, 1040, 1045])\n",
    "GR = np.array([74, 55, 62, 64, 72])\n",
    "DT = np.array([600, 655, 625, 674, 572])\n",
    "RHOB = np.array([1.800, 1.585, 2.025, 1.745, 1.785])\n",
    "ILD= np.array([0.786, 0.856, 1.100, 0.981, 0.870])\n",
    "\n",
    "\n",
    "wellLog = np.stack((depth, GR, DT, RHOB, ILD), axis=1)\n",
    "\n",
    "# print (depth)\n",
    "print(wellLog)\n"
   ]
  },
  {
   "cell_type": "code",
   "execution_count": 34,
   "metadata": {},
   "outputs": [
    {
     "data": {
      "image/png": "[encoded data removed]",
      "text/plain": [
       "<Figure size 1008x360 with 4 Axes>"
      ]
     },
     "metadata": {
      "needs_background": "light"
     },
     "output_type": "display_data"
    }
   ],
   "source": [
    "import matplotlib.pyplot as plt \n",
    "\n",
    "plt.figure(figsize=(14, 5))\n",
    "plt.subplot(141)\n",
    "plt.plot(wellLog[:,1], wellLog[:,0]) #slice depth and GR\n",
    "plt.title('GR')\n",
    "plt.subplot(142)\n",
    "plt.plot(wellLog[:,2], wellLog[:,0]) #slice depth and DT\n",
    "plt.title('DT')\n",
    "plt.subplot(143)\n",
    "plt.plot(wellLog[:,3], wellLog[:,0]) #slice depth and RHOB\n",
    "plt.title('RHOB')\n",
    "plt.subplot(144)\n",
    "plt.plot(wellLog[:,4], wellLog[:,0]) #slice depth and RHOB\n",
    "plt.title('ILD')\n",
    "\n",
    "plt.suptitle('Well Log')\n",
    "plt.show()\n"
   ]
  },
  {
   "cell_type": "code",
   "execution_count": 35,
   "metadata": {},
   "outputs": [
    {
     "data": {
      "text/html": [
       "<div>\n",
       "<style scoped>\n",
       "    .dataframe tbody tr th:only-of-type {\n",
       "        vertical-align: middle;\n",
       "    }\n",
       "\n",
       "    .dataframe tbody tr th {\n",
       "        vertical-align: top;\n",
       "    }\n",
       "\n",
       "    .dataframe thead th {\n",
       "        text-align: right;\n",
       "    }\n",
       "</style>\n",
       "<table border=\"1\" class=\"dataframe\">\n",
       "  <thead>\n",
       "    <tr style=\"text-align: right;\">\n",
       "      <th></th>\n",
       "      <th>GR</th>\n",
       "      <th>DT</th>\n",
       "      <th>RHOB</th>\n",
       "      <th>ILD</th>\n",
       "    </tr>\n",
       "  </thead>\n",
       "  <tbody>\n",
       "    <tr>\n",
       "      <th>count</th>\n",
       "      <td>5.000000</td>\n",
       "      <td>5.000000</td>\n",
       "      <td>5.000000</td>\n",
       "      <td>5.00000</td>\n",
       "    </tr>\n",
       "    <tr>\n",
       "      <th>mean</th>\n",
       "      <td>65.400000</td>\n",
       "      <td>625.200000</td>\n",
       "      <td>1.788000</td>\n",
       "      <td>0.91860</td>\n",
       "    </tr>\n",
       "    <tr>\n",
       "      <th>std</th>\n",
       "      <td>7.733046</td>\n",
       "      <td>41.032914</td>\n",
       "      <td>0.157623</td>\n",
       "      <td>0.12315</td>\n",
       "    </tr>\n",
       "    <tr>\n",
       "      <th>min</th>\n",
       "      <td>55.000000</td>\n",
       "      <td>572.000000</td>\n",
       "      <td>1.585000</td>\n",
       "      <td>0.78600</td>\n",
       "    </tr>\n",
       "    <tr>\n",
       "      <th>25%</th>\n",
       "      <td>62.000000</td>\n",
       "      <td>600.000000</td>\n",
       "      <td>1.745000</td>\n",
       "      <td>0.85600</td>\n",
       "    </tr>\n",
       "    <tr>\n",
       "      <th>50%</th>\n",
       "      <td>64.000000</td>\n",
       "      <td>625.000000</td>\n",
       "      <td>1.785000</td>\n",
       "      <td>0.87000</td>\n",
       "    </tr>\n",
       "    <tr>\n",
       "      <th>75%</th>\n",
       "      <td>72.000000</td>\n",
       "      <td>655.000000</td>\n",
       "      <td>1.800000</td>\n",
       "      <td>0.98100</td>\n",
       "    </tr>\n",
       "    <tr>\n",
       "      <th>max</th>\n",
       "      <td>74.000000</td>\n",
       "      <td>674.000000</td>\n",
       "      <td>2.025000</td>\n",
       "      <td>1.10000</td>\n",
       "    </tr>\n",
       "  </tbody>\n",
       "</table>\n",
       "</div>"
      ],
      "text/plain": [
       "              GR          DT      RHOB      ILD\n",
       "count   5.000000    5.000000  5.000000  5.00000\n",
       "mean   65.400000  625.200000  1.788000  0.91860\n",
       "std     7.733046   41.032914  0.157623  0.12315\n",
       "min    55.000000  572.000000  1.585000  0.78600\n",
       "25%    62.000000  600.000000  1.745000  0.85600\n",
       "50%    64.000000  625.000000  1.785000  0.87000\n",
       "75%    72.000000  655.000000  1.800000  0.98100\n",
       "max    74.000000  674.000000  2.025000  1.10000"
      ]
     },
     "execution_count": 35,
     "metadata": {},
     "output_type": "execute_result"
    }
   ],
   "source": [
    "import pandas as pd\n",
    "df = pd.DataFrame(data=wellLog, columns=[\"DEPTH\", \"GR\", \"DT\", \"RHOB\", \"ILD\"])\n",
    "well= df\n",
    "well.set_index(\"DEPTH\", inplace=True) #drop index\n",
    "# well.head(7)\n",
    "well.describe()\n"
   ]
  },
  {
   "cell_type": "code",
   "execution_count": 36,
   "metadata": {},
   "outputs": [
    {
     "name": "stdout",
     "output_type": "stream",
     "text": [
      "DEPTH\n",
      "1025.0    0.786\n",
      "1030.0    0.856\n",
      "1035.0    1.100\n",
      "1040.0    0.981\n",
      "1045.0    0.870\n",
      "Name: ILD, dtype: float64\n"
     ]
    }
   ],
   "source": [
    "print (well['ILD'])\n"
   ]
  },
  {
   "cell_type": "code",
   "execution_count": 37,
   "metadata": {},
   "outputs": [],
   "source": [
    "def shale_volume(gamma_ray, gamma_ray_max, gamma_ray_min):\n",
    "    vshale = (gamma_ray - gamma_ray_min) / (gamma_ray_max - gamma_ray_min)\n",
    "\n",
    "    return round(vshale, 3)\n"
   ]
  },
  {
   "cell_type": "code",
   "execution_count": 38,
   "metadata": {},
   "outputs": [
    {
     "data": {
      "text/html": [
       "<div>\n",
       "<style scoped>\n",
       "    .dataframe tbody tr th:only-of-type {\n",
       "        vertical-align: middle;\n",
       "    }\n",
       "\n",
       "    .dataframe tbody tr th {\n",
       "        vertical-align: top;\n",
       "    }\n",
       "\n",
       "    .dataframe thead th {\n",
       "        text-align: right;\n",
       "    }\n",
       "</style>\n",
       "<table border=\"1\" class=\"dataframe\">\n",
       "  <thead>\n",
       "    <tr style=\"text-align: right;\">\n",
       "      <th></th>\n",
       "      <th>GR</th>\n",
       "      <th>DT</th>\n",
       "      <th>RHOB</th>\n",
       "      <th>ILD</th>\n",
       "      <th>VSHALE</th>\n",
       "    </tr>\n",
       "    <tr>\n",
       "      <th>DEPTH</th>\n",
       "      <th></th>\n",
       "      <th></th>\n",
       "      <th></th>\n",
       "      <th></th>\n",
       "      <th></th>\n",
       "    </tr>\n",
       "  </thead>\n",
       "  <tbody>\n",
       "    <tr>\n",
       "      <th>1025.0</th>\n",
       "      <td>74.0</td>\n",
       "      <td>600.0</td>\n",
       "      <td>1.800</td>\n",
       "      <td>0.786</td>\n",
       "      <td>1.023</td>\n",
       "    </tr>\n",
       "    <tr>\n",
       "      <th>1030.0</th>\n",
       "      <td>55.0</td>\n",
       "      <td>655.0</td>\n",
       "      <td>1.585</td>\n",
       "      <td>0.856</td>\n",
       "      <td>-0.081</td>\n",
       "    </tr>\n",
       "    <tr>\n",
       "      <th>1035.0</th>\n",
       "      <td>62.0</td>\n",
       "      <td>625.0</td>\n",
       "      <td>2.025</td>\n",
       "      <td>1.100</td>\n",
       "      <td>0.326</td>\n",
       "    </tr>\n",
       "    <tr>\n",
       "      <th>1040.0</th>\n",
       "      <td>64.0</td>\n",
       "      <td>674.0</td>\n",
       "      <td>1.745</td>\n",
       "      <td>0.981</td>\n",
       "      <td>0.442</td>\n",
       "    </tr>\n",
       "    <tr>\n",
       "      <th>1045.0</th>\n",
       "      <td>72.0</td>\n",
       "      <td>572.0</td>\n",
       "      <td>1.785</td>\n",
       "      <td>0.870</td>\n",
       "      <td>0.907</td>\n",
       "    </tr>\n",
       "  </tbody>\n",
       "</table>\n",
       "</div>"
      ],
      "text/plain": [
       "          GR     DT   RHOB    ILD  VSHALE\n",
       "DEPTH                                    \n",
       "1025.0  74.0  600.0  1.800  0.786   1.023\n",
       "1030.0  55.0  655.0  1.585  0.856  -0.081\n",
       "1035.0  62.0  625.0  2.025  1.100   0.326\n",
       "1040.0  64.0  674.0  1.745  0.981   0.442\n",
       "1045.0  72.0  572.0  1.785  0.870   0.907"
      ]
     },
     "execution_count": 38,
     "metadata": {},
     "output_type": "execute_result"
    }
   ],
   "source": [
    "well['VSHALE']=shale_volume(well['GR'], well['GR'].quantile(q=0.95),\n",
    "                             well['GR'].quantile(q=0.05))\n",
    "\n",
    "well.head()"
   ]
  },
  {
   "cell_type": "code",
   "execution_count": 39,
   "metadata": {},
   "outputs": [],
   "source": [
    "# def density_porosity(input_density, matrix_density, fluid_density):\n",
    "#     denpor = (matrix_density - input_density) / (matrix_density - fluid_density)\n",
    "\n",
    "#     return round(denpor, 2)\n",
    "\n",
    "def density_porosity(x, y, z):\n",
    "    denpor = (y - x) / (y - z)\n",
    "\n",
    "    return round(denpor, 2)"
   ]
  },
  {
   "cell_type": "code",
   "execution_count": 40,
   "metadata": {},
   "outputs": [
    {
     "data": {
      "text/html": [
       "<div>\n",
       "<style scoped>\n",
       "    .dataframe tbody tr th:only-of-type {\n",
       "        vertical-align: middle;\n",
       "    }\n",
       "\n",
       "    .dataframe tbody tr th {\n",
       "        vertical-align: top;\n",
       "    }\n",
       "\n",
       "    .dataframe thead th {\n",
       "        text-align: right;\n",
       "    }\n",
       "</style>\n",
       "<table border=\"1\" class=\"dataframe\">\n",
       "  <thead>\n",
       "    <tr style=\"text-align: right;\">\n",
       "      <th></th>\n",
       "      <th>GR</th>\n",
       "      <th>DT</th>\n",
       "      <th>RHOB</th>\n",
       "      <th>ILD</th>\n",
       "      <th>VSHALE</th>\n",
       "      <th>PHI</th>\n",
       "      <th>PHIECALC</th>\n",
       "    </tr>\n",
       "    <tr>\n",
       "      <th>DEPTH</th>\n",
       "      <th></th>\n",
       "      <th></th>\n",
       "      <th></th>\n",
       "      <th></th>\n",
       "      <th></th>\n",
       "      <th></th>\n",
       "      <th></th>\n",
       "    </tr>\n",
       "  </thead>\n",
       "  <tbody>\n",
       "    <tr>\n",
       "      <th>1025.0</th>\n",
       "      <td>74.0</td>\n",
       "      <td>600.0</td>\n",
       "      <td>1.800</td>\n",
       "      <td>0.786</td>\n",
       "      <td>1.023</td>\n",
       "      <td>0.52</td>\n",
       "      <td>0.2131</td>\n",
       "    </tr>\n",
       "    <tr>\n",
       "      <th>1030.0</th>\n",
       "      <td>55.0</td>\n",
       "      <td>655.0</td>\n",
       "      <td>1.585</td>\n",
       "      <td>0.856</td>\n",
       "      <td>-0.081</td>\n",
       "      <td>0.65</td>\n",
       "      <td>0.6743</td>\n",
       "    </tr>\n",
       "    <tr>\n",
       "      <th>1035.0</th>\n",
       "      <td>62.0</td>\n",
       "      <td>625.0</td>\n",
       "      <td>2.025</td>\n",
       "      <td>1.100</td>\n",
       "      <td>0.326</td>\n",
       "      <td>0.38</td>\n",
       "      <td>0.2822</td>\n",
       "    </tr>\n",
       "    <tr>\n",
       "      <th>1040.0</th>\n",
       "      <td>64.0</td>\n",
       "      <td>674.0</td>\n",
       "      <td>1.745</td>\n",
       "      <td>0.981</td>\n",
       "      <td>0.442</td>\n",
       "      <td>0.55</td>\n",
       "      <td>0.4174</td>\n",
       "    </tr>\n",
       "    <tr>\n",
       "      <th>1045.0</th>\n",
       "      <td>72.0</td>\n",
       "      <td>572.0</td>\n",
       "      <td>1.785</td>\n",
       "      <td>0.870</td>\n",
       "      <td>0.907</td>\n",
       "      <td>0.52</td>\n",
       "      <td>0.2479</td>\n",
       "    </tr>\n",
       "  </tbody>\n",
       "</table>\n",
       "</div>"
      ],
      "text/plain": [
       "          GR     DT   RHOB    ILD  VSHALE   PHI  PHIECALC\n",
       "DEPTH                                                    \n",
       "1025.0  74.0  600.0  1.800  0.786   1.023  0.52    0.2131\n",
       "1030.0  55.0  655.0  1.585  0.856  -0.081  0.65    0.6743\n",
       "1035.0  62.0  625.0  2.025  1.100   0.326  0.38    0.2822\n",
       "1040.0  64.0  674.0  1.745  0.981   0.442  0.55    0.4174\n",
       "1045.0  72.0  572.0  1.785  0.870   0.907  0.52    0.2479"
      ]
     },
     "execution_count": 40,
     "metadata": {},
     "output_type": "execute_result"
    }
   ],
   "source": [
    "well['PHI']= density_porosity(well['RHOB'], 2.65, 1)\n",
    "\n",
    "well['PHIECALC'] = well['PHI'] - (well['VSHALE'] * 0.3)\n",
    "\n",
    "well.head()"
   ]
  },
  {
   "cell_type": "code",
   "execution_count": 41,
   "metadata": {},
   "outputs": [],
   "source": [
    "def rw_hingle(porosity, archieA, archieM, rt):\n",
    "    rw= (porosity ** archieM) * (rt/archieA)\n",
    "    return rw\n",
    "\n",
    "well['rw']=rw_hingle(well['PHI'],1, 2, well['ILD'])\n",
    "\n",
    "def sw_archie(porosity, rt, rw, archieA, archieM, archieN):\n",
    "    sw = ((archieA / (porosity ** archieM)) * (rw/rt))**(1/archieN)\n",
    "    return sw\n",
    "\n",
    "well['SW'] = sw_archie(well['PHI'], well['ILD'], well['rw'], 1, 2, 2)\n",
    "\n",
    "def sw_simandoux(phie, rt, rw, archieA, archieM, archieN, vshale, rshale):\n",
    "    A = (1 - vshale) * archieA * rw / (phie ** archieM)\n",
    "    B = A * vshale / (2 * rshale)\n",
    "    C = A / rt\n",
    "    \n",
    "    sw = ((B **2 + C)**0.5 - B) **(2 / archieN)\n",
    "    return sw\n",
    "well['SW_SIM'] = sw_simandoux(well['PHI'], well['ILD'], well['rw'], 1, 2, 2, well['VSHALE'],2)\n"
   ]
  },
  {
   "cell_type": "code",
   "execution_count": 42,
   "metadata": {},
   "outputs": [
    {
     "data": {
      "text/html": [
       "<div>\n",
       "<style scoped>\n",
       "    .dataframe tbody tr th:only-of-type {\n",
       "        vertical-align: middle;\n",
       "    }\n",
       "\n",
       "    .dataframe tbody tr th {\n",
       "        vertical-align: top;\n",
       "    }\n",
       "\n",
       "    .dataframe thead th {\n",
       "        text-align: right;\n",
       "    }\n",
       "</style>\n",
       "<table border=\"1\" class=\"dataframe\">\n",
       "  <thead>\n",
       "    <tr style=\"text-align: right;\">\n",
       "      <th></th>\n",
       "      <th>GR</th>\n",
       "      <th>DT</th>\n",
       "      <th>RHOB</th>\n",
       "      <th>ILD</th>\n",
       "      <th>VSHALE</th>\n",
       "      <th>PHI</th>\n",
       "      <th>PHIECALC</th>\n",
       "      <th>rw</th>\n",
       "      <th>SW</th>\n",
       "      <th>SW_SIM</th>\n",
       "    </tr>\n",
       "  </thead>\n",
       "  <tbody>\n",
       "    <tr>\n",
       "      <th>count</th>\n",
       "      <td>5.000000</td>\n",
       "      <td>5.000000</td>\n",
       "      <td>5.000000</td>\n",
       "      <td>5.00000</td>\n",
       "      <td>5.000000</td>\n",
       "      <td>5.000000</td>\n",
       "      <td>5.000000</td>\n",
       "      <td>5.000000</td>\n",
       "      <td>5.0</td>\n",
       "      <td>4.000000</td>\n",
       "    </tr>\n",
       "    <tr>\n",
       "      <th>mean</th>\n",
       "      <td>65.400000</td>\n",
       "      <td>625.200000</td>\n",
       "      <td>1.788000</td>\n",
       "      <td>0.91860</td>\n",
       "      <td>0.523400</td>\n",
       "      <td>0.524000</td>\n",
       "      <td>0.366980</td>\n",
       "      <td>0.253007</td>\n",
       "      <td>1.0</td>\n",
       "      <td>0.699376</td>\n",
       "    </tr>\n",
       "    <tr>\n",
       "      <th>std</th>\n",
       "      <td>7.733046</td>\n",
       "      <td>41.032914</td>\n",
       "      <td>0.157623</td>\n",
       "      <td>0.12315</td>\n",
       "      <td>0.449344</td>\n",
       "      <td>0.096592</td>\n",
       "      <td>0.188437</td>\n",
       "      <td>0.078326</td>\n",
       "      <td>0.0</td>\n",
       "      <td>0.317858</td>\n",
       "    </tr>\n",
       "    <tr>\n",
       "      <th>min</th>\n",
       "      <td>55.000000</td>\n",
       "      <td>572.000000</td>\n",
       "      <td>1.585000</td>\n",
       "      <td>0.78600</td>\n",
       "      <td>-0.081000</td>\n",
       "      <td>0.380000</td>\n",
       "      <td>0.213100</td>\n",
       "      <td>0.158840</td>\n",
       "      <td>1.0</td>\n",
       "      <td>0.287164</td>\n",
       "    </tr>\n",
       "    <tr>\n",
       "      <th>25%</th>\n",
       "      <td>62.000000</td>\n",
       "      <td>600.000000</td>\n",
       "      <td>1.745000</td>\n",
       "      <td>0.85600</td>\n",
       "      <td>0.326000</td>\n",
       "      <td>0.520000</td>\n",
       "      <td>0.247900</td>\n",
       "      <td>0.212534</td>\n",
       "      <td>1.0</td>\n",
       "      <td>0.588505</td>\n",
       "    </tr>\n",
       "    <tr>\n",
       "      <th>50%</th>\n",
       "      <td>64.000000</td>\n",
       "      <td>625.000000</td>\n",
       "      <td>1.785000</td>\n",
       "      <td>0.87000</td>\n",
       "      <td>0.442000</td>\n",
       "      <td>0.520000</td>\n",
       "      <td>0.282200</td>\n",
       "      <td>0.235248</td>\n",
       "      <td>1.0</td>\n",
       "      <td>0.725862</td>\n",
       "    </tr>\n",
       "    <tr>\n",
       "      <th>75%</th>\n",
       "      <td>72.000000</td>\n",
       "      <td>655.000000</td>\n",
       "      <td>1.800000</td>\n",
       "      <td>0.98100</td>\n",
       "      <td>0.907000</td>\n",
       "      <td>0.550000</td>\n",
       "      <td>0.417400</td>\n",
       "      <td>0.296753</td>\n",
       "      <td>1.0</td>\n",
       "      <td>0.836733</td>\n",
       "    </tr>\n",
       "    <tr>\n",
       "      <th>max</th>\n",
       "      <td>74.000000</td>\n",
       "      <td>674.000000</td>\n",
       "      <td>2.025000</td>\n",
       "      <td>1.10000</td>\n",
       "      <td>1.023000</td>\n",
       "      <td>0.650000</td>\n",
       "      <td>0.674300</td>\n",
       "      <td>0.361660</td>\n",
       "      <td>1.0</td>\n",
       "      <td>1.058618</td>\n",
       "    </tr>\n",
       "  </tbody>\n",
       "</table>\n",
       "</div>"
      ],
      "text/plain": [
       "              GR          DT      RHOB      ILD    VSHALE       PHI  PHIECALC  \\\n",
       "count   5.000000    5.000000  5.000000  5.00000  5.000000  5.000000  5.000000   \n",
       "mean   65.400000  625.200000  1.788000  0.91860  0.523400  0.524000  0.366980   \n",
       "std     7.733046   41.032914  0.157623  0.12315  0.449344  0.096592  0.188437   \n",
       "min    55.000000  572.000000  1.585000  0.78600 -0.081000  0.380000  0.213100   \n",
       "25%    62.000000  600.000000  1.745000  0.85600  0.326000  0.520000  0.247900   \n",
       "50%    64.000000  625.000000  1.785000  0.87000  0.442000  0.520000  0.282200   \n",
       "75%    72.000000  655.000000  1.800000  0.98100  0.907000  0.550000  0.417400   \n",
       "max    74.000000  674.000000  2.025000  1.10000  1.023000  0.650000  0.674300   \n",
       "\n",
       "             rw   SW    SW_SIM  \n",
       "count  5.000000  5.0  4.000000  \n",
       "mean   0.253007  1.0  0.699376  \n",
       "std    0.078326  0.0  0.317858  \n",
       "min    0.158840  1.0  0.287164  \n",
       "25%    0.212534  1.0  0.588505  \n",
       "50%    0.235248  1.0  0.725862  \n",
       "75%    0.296753  1.0  0.836733  \n",
       "max    0.361660  1.0  1.058618  "
      ]
     },
     "execution_count": 42,
     "metadata": {},
     "output_type": "execute_result"
    }
   ],
   "source": [
    "well.describe()"
   ]
  },
  {
   "cell_type": "code",
   "execution_count": 43,
   "metadata": {},
   "outputs": [
    {
     "data": {
      "image/png": "[encoded data removed]",
      "text/plain": [
       "<Figure size 1008x360 with 3 Axes>"
      ]
     },
     "metadata": {
      "needs_background": "light"
     },
     "output_type": "display_data"
    }
   ],
   "source": [
    "plt.figure(figsize=(14, 5))\n",
    "plt.subplot(131)\n",
    "plt.plot(well[\"PHIECALC\"], well.index)\n",
    "plt.title('PHIE')\n",
    "plt.subplot(132)\n",
    "plt.plot(well[\"VSHALE\"], well.index)\n",
    "plt.title('VSHALE')\n",
    "plt.subplot(133)\n",
    "plt.plot(well[\"SW_SIM\"], well.index)\n",
    "plt.title('SW')\n",
    "\n",
    "plt.suptitle('sumur A-5')\n",
    "plt.show()\n"
   ]
  },
  {
   "cell_type": "markdown",
   "metadata": {},
   "source": [
    "# References"
   ]
  },
  {
   "cell_type": "markdown",
   "metadata": {},
   "source": [
    "https://www.w3schools.com/python/default.asp\n",
    "\n",
    "https://github.com/panjoel4/Python_for_Geoscientist-Pycon2020]\n",
    "\n",
    "https://github.com/andymcdgeo/Petrophysics-Python-Series"
   ]
  }
 ],
 "metadata": {
  "kernelspec": {
   "display_name": "Python 3",
   "language": "python",
   "name": "python3"
  },
  "language_info": {
   "codemirror_mode": {
    "name": "ipython",
    "version": 3
   },
   "file_extension": ".py",
   "mimetype": "text/x-python",
   "name": "python",
   "nbconvert_exporter": "python",
   "pygments_lexer": "ipython3",
   "version": "3.8.3"
  }
 },
 "nbformat": 4,
 "nbformat_minor": 4
}
